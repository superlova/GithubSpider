{
 "cells": [
  {
   "cell_type": "code",
   "execution_count": 1,
   "metadata": {},
   "outputs": [],
   "source": [
    "import pandas as pd"
   ]
  },
  {
   "cell_type": "code",
   "execution_count": 2,
   "metadata": {},
   "outputs": [
    {
     "data": {
      "text/html": [
       "<div>\n",
       "<style scoped>\n",
       "    .dataframe tbody tr th:only-of-type {\n",
       "        vertical-align: middle;\n",
       "    }\n",
       "\n",
       "    .dataframe tbody tr th {\n",
       "        vertical-align: top;\n",
       "    }\n",
       "\n",
       "    .dataframe thead th {\n",
       "        text-align: right;\n",
       "    }\n",
       "</style>\n",
       "<table border=\"1\" class=\"dataframe\">\n",
       "  <thead>\n",
       "    <tr style=\"text-align: right;\">\n",
       "      <th></th>\n",
       "      <th>patch</th>\n",
       "      <th>sha</th>\n",
       "      <th>status</th>\n",
       "      <th>filename</th>\n",
       "      <th>parents_sha</th>\n",
       "    </tr>\n",
       "  </thead>\n",
       "  <tbody>\n",
       "    <tr>\n",
       "      <th>0</th>\n",
       "      <td>@@ -224,12 +224,7 @@ def __init__(self,\\n     ...</td>\n",
       "      <td>f21a440cde082e8b629f930c7c3f7b65ac27d4e6</td>\n",
       "      <td>modified</td>\n",
       "      <td>tensorflow/python/keras/callbacks.py</td>\n",
       "      <td>93d545e8b1e377926a24584a25c06dd422b7cc82</td>\n",
       "    </tr>\n",
       "    <tr>\n",
       "      <th>1</th>\n",
       "      <td>@@ -274,6 +274,37 @@ def test_progbar_logging(...</td>\n",
       "      <td>f21a440cde082e8b629f930c7c3f7b65ac27d4e6</td>\n",
       "      <td>modified</td>\n",
       "      <td>tensorflow/python/keras/callbacks_test.py</td>\n",
       "      <td>93d545e8b1e377926a24584a25c06dd422b7cc82</td>\n",
       "    </tr>\n",
       "    <tr>\n",
       "      <th>2</th>\n",
       "      <td>@@ -18,7 +18,6 @@\\n from __future__ import pri...</td>\n",
       "      <td>7d9299129c30405270813fe32f1310dbf3bab265</td>\n",
       "      <td>modified</td>\n",
       "      <td>tensorflow/python/data/experimental/kernel_tes...</td>\n",
       "      <td>2c7d978a1446adaba32d8465aceef0b2c4a41cad</td>\n",
       "    </tr>\n",
       "    <tr>\n",
       "      <th>3</th>\n",
       "      <td>@@ -0,0 +1,23 @@\\n+# Copyright 2019 The Tensor...</td>\n",
       "      <td>23ec33ae1418d56c3ce0294720782b636595a2b3</td>\n",
       "      <td>added</td>\n",
       "      <td>tensorflow/python/keras/mixed_precision/experi...</td>\n",
       "      <td>ff513ac54689e57ed333d62e0399a4d64a536900</td>\n",
       "    </tr>\n",
       "    <tr>\n",
       "      <th>4</th>\n",
       "      <td>@@ -33,7 +33,10 @@\\n from tensorflow.python.ke...</td>\n",
       "      <td>23ec33ae1418d56c3ce0294720782b636595a2b3</td>\n",
       "      <td>modified</td>\n",
       "      <td>tensorflow/python/keras/mixed_precision/experi...</td>\n",
       "      <td>ff513ac54689e57ed333d62e0399a4d64a536900</td>\n",
       "    </tr>\n",
       "    <tr>\n",
       "      <th>...</th>\n",
       "      <td>...</td>\n",
       "      <td>...</td>\n",
       "      <td>...</td>\n",
       "      <td>...</td>\n",
       "      <td>...</td>\n",
       "    </tr>\n",
       "    <tr>\n",
       "      <th>88281</th>\n",
       "      <td>@@ -342,15 +342,15 @@ def __init__(self,\\n    ...</td>\n",
       "      <td>23992bb091457f3e881ae1413d04c2aebbccfa2f</td>\n",
       "      <td>modified</td>\n",
       "      <td>tensorflow/contrib/seq2seq/python/ops/attentio...</td>\n",
       "      <td>af14ed3f37d52220394fb9ff902ae62fd915dbe8</td>\n",
       "    </tr>\n",
       "    <tr>\n",
       "      <th>88282</th>\n",
       "      <td>@@ -755,8 +755,8 @@ def sparse_softmax_cross_e...</td>\n",
       "      <td>23992bb091457f3e881ae1413d04c2aebbccfa2f</td>\n",
       "      <td>modified</td>\n",
       "      <td>tensorflow/python/ops/losses/losses_impl.py</td>\n",
       "      <td>af14ed3f37d52220394fb9ff902ae62fd915dbe8</td>\n",
       "    </tr>\n",
       "    <tr>\n",
       "      <th>88283</th>\n",
       "      <td>@@ -1646,9 +1646,9 @@ def _swap_axis(logits, d...</td>\n",
       "      <td>23992bb091457f3e881ae1413d04c2aebbccfa2f</td>\n",
       "      <td>modified</td>\n",
       "      <td>tensorflow/python/ops/nn_ops.py</td>\n",
       "      <td>af14ed3f37d52220394fb9ff902ae62fd915dbe8</td>\n",
       "    </tr>\n",
       "    <tr>\n",
       "      <th>88284</th>\n",
       "      <td>@@ -369,8 +369,7 @@ def testEllipsis(self):\\n ...</td>\n",
       "      <td>caceb02f75ff80a8e48440720cec3d7d6fa3297e</td>\n",
       "      <td>modified</td>\n",
       "      <td>tensorflow/python/kernel_tests/array_ops_test.py</td>\n",
       "      <td>cb9d147e9c788cc60ebb255fd26971719c7e2db2</td>\n",
       "    </tr>\n",
       "    <tr>\n",
       "      <th>88285</th>\n",
       "      <td>@@ -1641,99 +1641,8 @@ def _StridedSliceGradSh...</td>\n",
       "      <td>caceb02f75ff80a8e48440720cec3d7d6fa3297e</td>\n",
       "      <td>modified</td>\n",
       "      <td>tensorflow/python/ops/array_ops.py</td>\n",
       "      <td>cb9d147e9c788cc60ebb255fd26971719c7e2db2</td>\n",
       "    </tr>\n",
       "  </tbody>\n",
       "</table>\n",
       "<p>88286 rows × 5 columns</p>\n",
       "</div>"
      ],
      "text/plain": [
       "                                                   patch  \\\n",
       "0      @@ -224,12 +224,7 @@ def __init__(self,\\n     ...   \n",
       "1      @@ -274,6 +274,37 @@ def test_progbar_logging(...   \n",
       "2      @@ -18,7 +18,6 @@\\n from __future__ import pri...   \n",
       "3      @@ -0,0 +1,23 @@\\n+# Copyright 2019 The Tensor...   \n",
       "4      @@ -33,7 +33,10 @@\\n from tensorflow.python.ke...   \n",
       "...                                                  ...   \n",
       "88281  @@ -342,15 +342,15 @@ def __init__(self,\\n    ...   \n",
       "88282  @@ -755,8 +755,8 @@ def sparse_softmax_cross_e...   \n",
       "88283  @@ -1646,9 +1646,9 @@ def _swap_axis(logits, d...   \n",
       "88284  @@ -369,8 +369,7 @@ def testEllipsis(self):\\n ...   \n",
       "88285  @@ -1641,99 +1641,8 @@ def _StridedSliceGradSh...   \n",
       "\n",
       "                                            sha    status  \\\n",
       "0      f21a440cde082e8b629f930c7c3f7b65ac27d4e6  modified   \n",
       "1      f21a440cde082e8b629f930c7c3f7b65ac27d4e6  modified   \n",
       "2      7d9299129c30405270813fe32f1310dbf3bab265  modified   \n",
       "3      23ec33ae1418d56c3ce0294720782b636595a2b3     added   \n",
       "4      23ec33ae1418d56c3ce0294720782b636595a2b3  modified   \n",
       "...                                         ...       ...   \n",
       "88281  23992bb091457f3e881ae1413d04c2aebbccfa2f  modified   \n",
       "88282  23992bb091457f3e881ae1413d04c2aebbccfa2f  modified   \n",
       "88283  23992bb091457f3e881ae1413d04c2aebbccfa2f  modified   \n",
       "88284  caceb02f75ff80a8e48440720cec3d7d6fa3297e  modified   \n",
       "88285  caceb02f75ff80a8e48440720cec3d7d6fa3297e  modified   \n",
       "\n",
       "                                                filename  \\\n",
       "0                   tensorflow/python/keras/callbacks.py   \n",
       "1              tensorflow/python/keras/callbacks_test.py   \n",
       "2      tensorflow/python/data/experimental/kernel_tes...   \n",
       "3      tensorflow/python/keras/mixed_precision/experi...   \n",
       "4      tensorflow/python/keras/mixed_precision/experi...   \n",
       "...                                                  ...   \n",
       "88281  tensorflow/contrib/seq2seq/python/ops/attentio...   \n",
       "88282        tensorflow/python/ops/losses/losses_impl.py   \n",
       "88283                    tensorflow/python/ops/nn_ops.py   \n",
       "88284   tensorflow/python/kernel_tests/array_ops_test.py   \n",
       "88285                 tensorflow/python/ops/array_ops.py   \n",
       "\n",
       "                                    parents_sha  \n",
       "0      93d545e8b1e377926a24584a25c06dd422b7cc82  \n",
       "1      93d545e8b1e377926a24584a25c06dd422b7cc82  \n",
       "2      2c7d978a1446adaba32d8465aceef0b2c4a41cad  \n",
       "3      ff513ac54689e57ed333d62e0399a4d64a536900  \n",
       "4      ff513ac54689e57ed333d62e0399a4d64a536900  \n",
       "...                                         ...  \n",
       "88281  af14ed3f37d52220394fb9ff902ae62fd915dbe8  \n",
       "88282  af14ed3f37d52220394fb9ff902ae62fd915dbe8  \n",
       "88283  af14ed3f37d52220394fb9ff902ae62fd915dbe8  \n",
       "88284  cb9d147e9c788cc60ebb255fd26971719c7e2db2  \n",
       "88285  cb9d147e9c788cc60ebb255fd26971719c7e2db2  \n",
       "\n",
       "[88286 rows x 5 columns]"
      ]
     },
     "execution_count": 2,
     "metadata": {},
     "output_type": "execute_result"
    }
   ],
   "source": [
    "df = pd.read_pickle(\"tensorflow-tensorflow-shas.tar.bz2\")\n",
    "df"
   ]
  },
  {
   "cell_type": "code",
   "execution_count": 5,
   "metadata": {},
   "outputs": [
    {
     "data": {
      "text/plain": [
       "'7d9299129c30405270813fe32f1310dbf3bab265'"
      ]
     },
     "execution_count": 5,
     "metadata": {},
     "output_type": "execute_result"
    }
   ],
   "source": [
    "df.iloc[2]['sha']"
   ]
  },
  {
   "cell_type": "code",
   "execution_count": 6,
   "metadata": {},
   "outputs": [
    {
     "data": {
      "text/plain": [
       "'tensorflow/python/data/experimental/kernel_tests/optimize_dataset_test.py'"
      ]
     },
     "execution_count": 6,
     "metadata": {},
     "output_type": "execute_result"
    }
   ],
   "source": [
    "df.iloc[2]['filename']"
   ]
  },
  {
   "cell_type": "code",
   "execution_count": 7,
   "metadata": {
    "scrolled": true
   },
   "outputs": [
    {
     "data": {
      "text/plain": [
       "'2c7d978a1446adaba32d8465aceef0b2c4a41cad'"
      ]
     },
     "execution_count": 7,
     "metadata": {},
     "output_type": "execute_result"
    }
   ],
   "source": [
    "df.iloc[2]['parents_sha']"
   ]
  },
  {
   "cell_type": "code",
   "execution_count": 11,
   "metadata": {},
   "outputs": [],
   "source": [
    "curr_file = \"https://api.github.com/repos/tensorflow/tensorflow/commits\" + '/' + df.iloc[2]['sha'] + '/' + df.iloc[2]['filename']\n",
    "parent_file = \"https://api.github.com/repos/tensorflow/tensorflow/commits\" + '/' + df.iloc[2]['parents_sha'] + '/' + df.iloc[2]['filename']"
   ]
  },
  {
   "cell_type": "code",
   "execution_count": null,
   "metadata": {},
   "outputs": [
    {
     "data": {
      "text/plain": [
       "<Response [422]>"
      ]
     },
     "execution_count": 14,
     "metadata": {},
     "output_type": "execute_result"
    }
   ],
   "source": [
    "import requests\n",
    "requests.get(curr_file)"
   ]
  },
  {
   "cell_type": "code",
   "execution_count": null,
   "metadata": {},
   "outputs": [],
   "source": []
  },
  {
   "cell_type": "code",
   "execution_count": 4,
   "metadata": {},
   "outputs": [
    {
     "name": "stdout",
     "output_type": "stream",
     "text": [
      "@@ -18,7 +18,6 @@\n",
      " from __future__ import print_function\n",
      " \n",
      " import functools\n",
      "-import os\n",
      " import warnings\n",
      " \n",
      " from absl.testing import parameterized\n",
      "@@ -213,17 +212,11 @@ def flat_map_fn(_):\n",
      "                          _disable_intra_op_parallelism_test_combinations()))\n",
      "   def testOptimizationDisableIntraOpParallelism(self, dataset_fn,\n",
      "                                                 expected_output):\n",
      "-    os.environ[\"TF_DATA_EXPERIMENT_OPT_IN\"] = \"disable_intra_op_parallelism\"\n",
      "-    os.environ[\"TF_JOB_NAME\"] = \"test_job\"\n",
      "-\n",
      "     dataset = dataset_fn()\n",
      "     dataset = dataset.apply(testing.assert_next([\"MaxIntraOpParallelism\"]))\n",
      " \n",
      "     self.assertDatasetProduces(dataset, expected_output=expected_output)\n",
      " \n",
      "-    del os.environ[\"TF_DATA_EXPERIMENT_OPT_IN\"]\n",
      "-    del os.environ[\"TF_JOB_NAME\"]\n",
      "-\n",
      "   @combinations.generate(test_base.default_test_combinations())\n",
      "   def testOptimizationThreadPoolDataset(self):\n",
      "     dataset = dataset_ops.Dataset.range(10).batch(10)\n"
     ]
    }
   ],
   "source": [
    "print(df.iloc[2]['patch'])"
   ]
  },
  {
   "cell_type": "code",
   "execution_count": 8,
   "metadata": {},
   "outputs": [],
   "source": [
    "import requests\n",
    "import ast"
   ]
  },
  {
   "cell_type": "code",
   "execution_count": null,
   "metadata": {},
   "outputs": [],
   "source": [
    "url = \"https://raw.githubusercontent.com/tensorflow/tensorflow/e2cf841822a53f0df6d606b2d4da9790efcefb97/tensorflow/lite/experimental/examples/lstm/input_data.py\"\n",
    "text = requests.get(url)"
   ]
  },
  {
   "cell_type": "code",
   "execution_count": null,
   "metadata": {},
   "outputs": [],
   "source": []
  },
  {
   "cell_type": "code",
   "execution_count": null,
   "metadata": {},
   "outputs": [],
   "source": []
  },
  {
   "cell_type": "code",
   "execution_count": null,
   "metadata": {},
   "outputs": [],
   "source": []
  }
 ],
 "metadata": {
  "kernelspec": {
   "display_name": "Python 3",
   "language": "python",
   "name": "python3"
  },
  "language_info": {
   "codemirror_mode": {
    "name": "ipython",
    "version": 3
   },
   "file_extension": ".py",
   "mimetype": "text/x-python",
   "name": "python",
   "nbconvert_exporter": "python",
   "pygments_lexer": "ipython3",
   "version": "3.9.0"
  }
 },
 "nbformat": 4,
 "nbformat_minor": 4
}